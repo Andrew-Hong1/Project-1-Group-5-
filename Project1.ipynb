{
 "cells": [
  {
   "cell_type": "code",
   "execution_count": null,
   "id": "f58f265d-cc54-4076-b8b1-c8b33a249b09",
   "metadata": {},
   "outputs": [],
   "source": [
    "import pandas as pd\n",
    "\n",
    "path = pd.read_csv(\"Data/21-Appliances.csv\")\n",
    "df = pd.DataFrame(path)\n",
    "df.head()"
   ]
  },
  {
   "cell_type": "code",
   "execution_count": null,
   "id": "d616e42e-1c93-4122-909a-3fcc5d3e4423",
   "metadata": {},
   "outputs": [],
   "source": [
    "clean_df = df[[\"title\", \"brandName\", \"subcategory.subcategoryName\", \"rank\", \"productPageScore\", \"manufacturer\", \"totalRatings\", \"numberOfSellers\", \"monthlyRevenueEstimate\", \"monthlyUnitsSolds\",\n",
    "               \"reviewCount\", \"reviewRating\", \"buyBoxPrice\", \"averageBuyBoxPrice\"]]\n",
    "clean_df.head()"
   ]
  },
  {
   "cell_type": "code",
   "execution_count": null,
   "id": "e410240f-a547-481d-ab4c-dfd8f210f689",
   "metadata": {},
   "outputs": [],
   "source": []
  }
 ],
 "metadata": {
  "kernelspec": {
   "display_name": "Python 3 (ipykernel)",
   "language": "python",
   "name": "python3"
  },
  "language_info": {
   "codemirror_mode": {
    "name": "ipython",
    "version": 3
   },
   "file_extension": ".py",
   "mimetype": "text/x-python",
   "name": "python",
   "nbconvert_exporter": "python",
   "pygments_lexer": "ipython3",
   "version": "3.10.11"
  }
 },
 "nbformat": 4,
 "nbformat_minor": 5
}
